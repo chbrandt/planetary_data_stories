{
 "cells": [
  {
   "cell_type": "markdown",
   "id": "48ca11aa-1d21-4f48-a6bd-05015364640e",
   "metadata": {},
   "source": [
    "# Jupyter container base environment\n",
    "\n",
    "When we run [jupyter containers](https://jupyter-docker-stacks.readthedocs.io/), there is conda `base` environment per default. Meaning running this notebook (in the base) environment should \"just work\".\n",
    "\n",
    "To check we're in a container let's check for some system variables."
   ]
  },
  {
   "cell_type": "code",
   "execution_count": 2,
   "id": "a68d0e2f-79ba-4ba9-991c-3c19dc9a81af",
   "metadata": {},
   "outputs": [
    {
     "ename": "NameError",
     "evalue": "name 'HOSTNAME' is not defined",
     "output_type": "error",
     "traceback": [
      "\u001b[0;31m---------------------------------------------------------------------------\u001b[0m",
      "\u001b[0;31mNameError\u001b[0m                                 Traceback (most recent call last)",
      "Cell \u001b[0;32mIn[2], line 3\u001b[0m\n\u001b[1;32m      1\u001b[0m \u001b[38;5;28;01mimport\u001b[39;00m \u001b[38;5;21;01mos\u001b[39;00m\n\u001b[0;32m----> 3\u001b[0m \u001b[38;5;28mprint\u001b[39m(\u001b[38;5;124m\"\u001b[39m\u001b[38;5;124mHostname of a container is an ugly hash:\u001b[39m\u001b[38;5;130;01m\\n\u001b[39;00m\u001b[38;5;124m\"\u001b[39m, os\u001b[38;5;241m.\u001b[39menviron[\u001b[43mHOSTNAME\u001b[49m])\n",
      "\u001b[0;31mNameError\u001b[0m: name 'HOSTNAME' is not defined"
     ]
    }
   ],
   "source": [
    "import os\n",
    "\n",
    "print(\"Hostname of a container is an ugly hash:\\n\", os.environ[HOSTNAME])"
   ]
  },
  {
   "cell_type": "code",
   "execution_count": 3,
   "id": "bc7c8b00-f328-4f1f-b2f6-4b405752d9fb",
   "metadata": {},
   "outputs": [
    {
     "name": "stdout",
     "output_type": "stream",
     "text": [
      "In jupyter docker-stacks, the following variables are defined:\n"
     ]
    },
    {
     "ename": "KeyError",
     "evalue": "'NB_UID'",
     "output_type": "error",
     "traceback": [
      "\u001b[0;31m---------------------------------------------------------------------------\u001b[0m",
      "\u001b[0;31mKeyError\u001b[0m                                  Traceback (most recent call last)",
      "Cell \u001b[0;32mIn[3], line 2\u001b[0m\n\u001b[1;32m      1\u001b[0m \u001b[38;5;28mprint\u001b[39m(\u001b[38;5;124m\"\u001b[39m\u001b[38;5;124mIn jupyter docker-stacks, the following variables are defined:\u001b[39m\u001b[38;5;124m\"\u001b[39m)\n\u001b[0;32m----> 2\u001b[0m \u001b[38;5;28mprint\u001b[39m(\u001b[38;5;124m\"\u001b[39m\u001b[38;5;124mNB_UID:\u001b[39m\u001b[38;5;124m\"\u001b[39m, \u001b[43mos\u001b[49m\u001b[38;5;241;43m.\u001b[39;49m\u001b[43menviron\u001b[49m\u001b[43m[\u001b[49m\u001b[38;5;124;43m'\u001b[39;49m\u001b[38;5;124;43mNB_UID\u001b[39;49m\u001b[38;5;124;43m'\u001b[39;49m\u001b[43m]\u001b[49m)\n\u001b[1;32m      3\u001b[0m \u001b[38;5;28mprint\u001b[39m(\u001b[38;5;124m\"\u001b[39m\u001b[38;5;124mNB_GID:\u001b[39m\u001b[38;5;124m\"\u001b[39m, os\u001b[38;5;241m.\u001b[39menviron[\u001b[38;5;124m'\u001b[39m\u001b[38;5;124mNB_GID\u001b[39m\u001b[38;5;124m'\u001b[39m])\n\u001b[1;32m      4\u001b[0m \u001b[38;5;28mprint\u001b[39m(\u001b[38;5;124m\"\u001b[39m\u001b[38;5;124mNB_HOME:\u001b[39m\u001b[38;5;124m\"\u001b[39m, os\u001b[38;5;241m.\u001b[39menviron[\u001b[38;5;124m'\u001b[39m\u001b[38;5;124mNB_HOME\u001b[39m\u001b[38;5;124m'\u001b[39m])\n",
      "File \u001b[0;32m<frozen os>:679\u001b[0m, in \u001b[0;36m__getitem__\u001b[0;34m(self, key)\u001b[0m\n",
      "\u001b[0;31mKeyError\u001b[0m: 'NB_UID'"
     ]
    }
   ],
   "source": [
    "print(\"In jupyter docker-stacks, the following variables are defined:\")\n",
    "print(\"NB_UID:\", os.environ['NB_UID'])\n",
    "print(\"NB_GID:\", os.environ['NB_GID'])\n",
    "print(\"NB_HOME:\", os.environ['NB_HOME'])"
   ]
  },
  {
   "cell_type": "code",
   "execution_count": 4,
   "id": "95f2f3ca-9b31-4e3d-8e00-f4974163f86b",
   "metadata": {},
   "outputs": [
    {
     "name": "stdout",
     "output_type": "stream",
     "text": [
      "Where are we running?\n",
      " /opt/miniconda3/envs/gpt/bin/python\n"
     ]
    }
   ],
   "source": [
    "import sys\n",
    "\n",
    "print(\"Where are we running?\\n\", sys.executable)"
   ]
  }
 ],
 "metadata": {
  "kernelspec": {
   "display_name": "gpt",
   "language": "python",
   "name": "gpt"
  },
  "language_info": {
   "codemirror_mode": {
    "name": "ipython",
    "version": 3
   },
   "file_extension": ".py",
   "mimetype": "text/x-python",
   "name": "python",
   "nbconvert_exporter": "python",
   "pygments_lexer": "ipython3",
   "version": "3.11.3"
  }
 },
 "nbformat": 4,
 "nbformat_minor": 5
}
