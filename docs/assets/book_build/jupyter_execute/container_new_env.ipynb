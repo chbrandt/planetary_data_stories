{
 "cells": [
  {
   "cell_type": "markdown",
   "id": "48ca11aa-1d21-4f48-a6bd-05015364640e",
   "metadata": {},
   "source": [
    "# Jupyter container \"new\" environment\n",
    "\n",
    "Now we want to run (this) notebook inside a (jupyter) container, but not in conda *base* environment but another run, installed before. Again, this notebook doesn't know -- or care -- about the name of the environment. Only the packages manner.\n",
    "\n",
    "We check we're in a container like in the other example notebook, though some environment variables:"
   ]
  },
  {
   "cell_type": "code",
   "execution_count": null,
   "id": "a68d0e2f-79ba-4ba9-991c-3c19dc9a81af",
   "metadata": {},
   "outputs": [],
   "source": [
    "import os\n",
    "\n",
    "print(f\"Hostname of a container is an ugly hash:\\n {os.environ['HOSTNAME']}\\n\")\n",
    "\n",
    "print(\"In jupyter docker-stacks, the following variables are defined:\\n\",\n",
    "    f\"NB_USER: {os.environ['NB_USER']}\\n\",\n",
    "    f\"NB_UID:  {os.environ['NB_UID']}\\n\",\n",
    "    f\"NB_GID:  {os.environ['NB_GID']}\",\n",
    ")"
   ]
  },
  {
   "cell_type": "markdown",
   "id": "10f6c4a8-24bb-420b-b3e2-7517908e10b1",
   "metadata": {},
   "source": [
    "Let's say that this \"new\" environment has the [Faker](https://pypi.org/project/Faker/) package installed."
   ]
  },
  {
   "cell_type": "code",
   "execution_count": null,
   "id": "dba2f580-ace0-47de-b5ae-6fbb0ac1e1ae",
   "metadata": {},
   "outputs": [],
   "source": [
    "from faker import Faker\n",
    "\n",
    "Faker.seed(0)\n",
    "fake = Faker()\n",
    "for _ in range(5):\n",
    "    fake.location_on_land()"
   ]
  },
  {
   "cell_type": "code",
   "execution_count": null,
   "id": "95f2f3ca-9b31-4e3d-8e00-f4974163f86b",
   "metadata": {},
   "outputs": [],
   "source": [
    "import sys\n",
    "\n",
    "print(\"Where are we running?\\n\", sys.executable)"
   ]
  }
 ],
 "metadata": {
  "language_info": {
   "codemirror_mode": {
    "name": "ipython",
    "version": 3
   },
   "file_extension": ".py",
   "mimetype": "text/x-python",
   "name": "python",
   "nbconvert_exporter": "python",
   "pygments_lexer": "ipython3",
   "version": "3.11.0"
  }
 },
 "nbformat": 4,
 "nbformat_minor": 5
}