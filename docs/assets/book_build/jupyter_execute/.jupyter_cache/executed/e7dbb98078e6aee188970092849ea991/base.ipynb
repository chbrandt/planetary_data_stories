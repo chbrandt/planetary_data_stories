{
 "cells": [
  {
   "cell_type": "code",
   "execution_count": 1,
   "id": "a68d0e2f-79ba-4ba9-991c-3c19dc9a81af",
   "metadata": {},
   "outputs": [
    {
     "name": "stdout",
     "output_type": "stream",
     "text": [
      "Hostname of a container is an ugly hash:\n",
      " 1a5dd6f089fc\n",
      "\n",
      "In jupyter docker-stacks, the following variables are defined:\n",
      " NB_USER: jovyan\n",
      " NB_UID:  1000\n",
      " NB_GID:  100\n"
     ]
    }
   ],
   "source": [
    "import os\n",
    "\n",
    "print(f\"Hostname of a container is an ugly hash:\\n {os.environ['HOSTNAME']}\\n\")\n",
    "\n",
    "print(\"In jupyter docker-stacks, the following variables are defined:\\n\",\n",
    "    f\"NB_USER: {os.environ['NB_USER']}\\n\",\n",
    "    f\"NB_UID:  {os.environ['NB_UID']}\\n\",\n",
    "    f\"NB_GID:  {os.environ['NB_GID']}\",\n",
    ")"
   ]
  },
  {
   "cell_type": "code",
   "execution_count": 2,
   "id": "dba2f580-ace0-47de-b5ae-6fbb0ac1e1ae",
   "metadata": {},
   "outputs": [],
   "source": [
    "from faker import Faker\n",
    "\n",
    "Faker.seed(0)\n",
    "fake = Faker()\n",
    "for _ in range(5):\n",
    "    fake.location_on_land()"
   ]
  },
  {
   "cell_type": "code",
   "execution_count": 3,
   "id": "95f2f3ca-9b31-4e3d-8e00-f4974163f86b",
   "metadata": {},
   "outputs": [
    {
     "name": "stdout",
     "output_type": "stream",
     "text": [
      "Where are we running?\n",
      " /opt/conda/envs/tmp/bin/python3.11\n"
     ]
    }
   ],
   "source": [
    "import sys\n",
    "\n",
    "print(\"Where are we running?\\n\", sys.executable)"
   ]
  }
 ],
 "metadata": {
  "language_info": {
   "codemirror_mode": {
    "name": "ipython",
    "version": 3
   },
   "file_extension": ".py",
   "mimetype": "text/x-python",
   "name": "python",
   "nbconvert_exporter": "python",
   "pygments_lexer": "ipython3",
   "version": "3.11.4"
  }
 },
 "nbformat": 4,
 "nbformat_minor": 5
}