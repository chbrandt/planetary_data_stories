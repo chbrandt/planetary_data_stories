{
 "cells": [
  {
   "cell_type": "code",
   "execution_count": 1,
   "id": "1a1c8bf6-d1e5-41be-aa66-8af58436d84a",
   "metadata": {},
   "outputs": [
    {
     "name": "stdout",
     "output_type": "stream",
     "text": [
      "Which python we're running?\n",
      " /opt/miniconda3/envs/jupyter-book/bin/python\n"
     ]
    }
   ],
   "source": [
    "import sys\n",
    "print(\"Which python we're running?\\n\", sys.executable)"
   ]
  },
  {
   "cell_type": "code",
   "execution_count": 2,
   "id": "c76409df-b11e-41f2-b66e-db9352c0d5ad",
   "metadata": {},
   "outputs": [
    {
     "name": "stdout",
     "output_type": "stream",
     "text": [
      "Where are std-libs installed?\n",
      " /opt/miniconda3/envs/jupyter-book/lib/python3.9\n"
     ]
    }
   ],
   "source": [
    "import os\n",
    "print(\"Where are std-libs installed?\\n\", os.path.dirname(os.__file__))"
   ]
  },
  {
   "cell_type": "code",
   "execution_count": null,
   "id": "73d98875-6523-4871-b68d-2c5f7ca7caaf",
   "metadata": {},
   "outputs": [],
   "source": []
  }
 ],
 "metadata": {
  "kernelspec": {
   "display_name": "Python 3 (ipykernel)",
   "language": "python",
   "name": "python3"
  },
  "language_info": {
   "codemirror_mode": {
    "name": "ipython",
    "version": 3
   },
   "file_extension": ".py",
   "mimetype": "text/x-python",
   "name": "python",
   "nbconvert_exporter": "python",
   "pygments_lexer": "ipython3",
   "version": "3.9.16"
  }
 },
 "nbformat": 4,
 "nbformat_minor": 5
}