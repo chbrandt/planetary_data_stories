{
 "cells": [
  {
   "cell_type": "markdown",
   "id": "48ca11aa-1d21-4f48-a6bd-05015364640e",
   "metadata": {},
   "source": [
    "# Jupyter container base environment\n",
    "\n",
    "When we run [jupyter containers](https://jupyter-docker-stacks.readthedocs.io/), there is conda `base` environment per default. Meaning running this notebook (in the base) environment should \"just work\".\n",
    "\n",
    "To check we're in a container let's check for some system variables."
   ]
  },
  {
   "cell_type": "code",
   "execution_count": null,
   "id": "a68d0e2f-79ba-4ba9-991c-3c19dc9a81af",
   "metadata": {},
   "outputs": [],
   "source": [
    "import os\n",
    "\n",
    "print(\"Hostname of a container is an ugly hash:\\n\", os.environ['HOSTNAME'])"
   ]
  },
  {
   "cell_type": "code",
   "execution_count": null,
   "id": "bc7c8b00-f328-4f1f-b2f6-4b405752d9fb",
   "metadata": {},
   "outputs": [],
   "source": [
    "print(\"In jupyter docker-stacks, the following variables are defined:\")\n",
    "print(\"NB_USER:\", os.environ['NB_USER'])\n",
    "print(\"NB_UID:\", os.environ['NB_UID'])\n",
    "print(\"NB_GID:\", os.environ['NB_GID'])"
   ]
  },
  {
   "cell_type": "code",
   "execution_count": null,
   "id": "95f2f3ca-9b31-4e3d-8e00-f4974163f86b",
   "metadata": {},
   "outputs": [],
   "source": [
    "import sys\n",
    "\n",
    "print(\"Where are we running?\\n\", sys.executable)"
   ]
  }
 ],
 "metadata": {
  "kernelspec": {
   "display_name": "",
   "name": ""
  },
  "language_info": {
   "codemirror_mode": {
    "name": "ipython",
    "version": 3
   },
   "file_extension": ".py",
   "mimetype": "text/x-python",
   "name": "python",
   "nbconvert_exporter": "python",
   "pygments_lexer": "ipython3",
   "version": "3.11.3"
  }
 },
 "nbformat": 4,
 "nbformat_minor": 5
}