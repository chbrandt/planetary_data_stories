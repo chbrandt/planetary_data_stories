{
 "cells": [
  {
   "cell_type": "code",
   "execution_count": 1,
   "id": "a68d0e2f-79ba-4ba9-991c-3c19dc9a81af",
   "metadata": {},
   "outputs": [
    {
     "name": "stdout",
     "output_type": "stream",
     "text": [
      "Hostname of a container is an ugly hash:\n",
      " ce1d7246eef2\n"
     ]
    }
   ],
   "source": [
    "import os\n",
    "\n",
    "print(\"Hostname of a container is an ugly hash:\\n\", os.environ['HOSTNAME'])"
   ]
  },
  {
   "cell_type": "code",
   "execution_count": 2,
   "id": "bc7c8b00-f328-4f1f-b2f6-4b405752d9fb",
   "metadata": {},
   "outputs": [
    {
     "name": "stdout",
     "output_type": "stream",
     "text": [
      "In jupyter docker-stacks, the following variables are defined:\n",
      "NB_USER: jovyan\n",
      "NB_UID: 1000\n",
      "NB_GID: 100\n"
     ]
    }
   ],
   "source": [
    "print(\"In jupyter docker-stacks, the following variables are defined:\")\n",
    "print(\"NB_USER:\", os.environ['NB_USER'])\n",
    "print(\"NB_UID:\", os.environ['NB_UID'])\n",
    "print(\"NB_GID:\", os.environ['NB_GID'])"
   ]
  },
  {
   "cell_type": "code",
   "execution_count": 3,
   "id": "95f2f3ca-9b31-4e3d-8e00-f4974163f86b",
   "metadata": {},
   "outputs": [
    {
     "name": "stdout",
     "output_type": "stream",
     "text": [
      "Where are we running?\n",
      " /opt/conda/bin/python\n"
     ]
    }
   ],
   "source": [
    "import sys\n",
    "\n",
    "print(\"Where are we running?\\n\", sys.executable)"
   ]
  }
 ],
 "metadata": {
  "kernelspec": {
   "display_name": "",
   "name": ""
  },
  "language_info": {
   "codemirror_mode": {
    "name": "ipython",
    "version": 3
   },
   "file_extension": ".py",
   "mimetype": "text/x-python",
   "name": "python",
   "nbconvert_exporter": "python",
   "pygments_lexer": "ipython3",
   "version": "3.11.4"
  }
 },
 "nbformat": 4,
 "nbformat_minor": 5
}